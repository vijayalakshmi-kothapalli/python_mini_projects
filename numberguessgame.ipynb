{
 "cells": [
  {
   "cell_type": "code",
   "execution_count": null,
   "metadata": {},
   "outputs": [],
   "source": []
  },
  {
   "cell_type": "code",
   "execution_count": 1,
   "metadata": {},
   "outputs": [
    {
     "name": "stdout",
     "output_type": "stream",
     "text": [
      "guess a number between 90 and 100\n",
      "Your guess is not correct!!\n",
      "Please enter valid number\n",
      "Your guess is not correct!!\n",
      "Your guess is not correct!!\n",
      "Your guess is correct!!\n"
     ]
    }
   ],
   "source": [
    "import random\n",
    "a=90\n",
    "b=100\n",
    "guessvalue=random.randint(a,b)\n",
    "print(f\"guess a number between {a} and {b}\")\n",
    "isvalue=True\n",
    "while isvalue:\n",
    "    answer=input(\"Guess your number:\")\n",
    "    if answer.isnumeric():\n",
    "        answer=int(answer)\n",
    "        if(guessvalue!=answer):\n",
    "            print(\"Your guess is not correct!!\")\n",
    "        else:\n",
    "            print(\"Your guess is correct!!\")\n",
    "            isvalue=False\n",
    "    else:\n",
    "        print(\"Please enter valid number\") "
   ]
  }
 ],
 "metadata": {
  "kernelspec": {
   "display_name": "Python 3",
   "language": "python",
   "name": "python3"
  },
  "language_info": {
   "codemirror_mode": {
    "name": "ipython",
    "version": 3
   },
   "file_extension": ".py",
   "mimetype": "text/x-python",
   "name": "python",
   "nbconvert_exporter": "python",
   "pygments_lexer": "ipython3",
   "version": "3.9.13"
  }
 },
 "nbformat": 4,
 "nbformat_minor": 2
}
